{
 "cells": [
  {
   "cell_type": "markdown",
   "metadata": {},
   "source": [
    "## SciPy and Scikits\n",
    "\n",
    "NumPy contains much of the functionality required to perform efficient operations in python, but you will soon realize that there is not a great deal of high level functionality implemented in numpy. \n",
    "\n",
    "[Scipy](http://docs.scipy.org/doc/scipy/reference/) is the module where you *will* find a great deal of high level functionality that is very useful for day to day scientific computing. \n",
    "\n",
    "Some of the very useful submodules that can be found in SciPy are:\n",
    "\n",
    "* [Linear Algebra](http://docs.scipy.org/doc/scipy/reference/tutorial/linalg.html)\n",
    "* [Statistics](http://docs.scipy.org/doc/scipy/reference/tutorial/stats.html)\n",
    "* [Integration](http://docs.scipy.org/doc/scipy/reference/tutorial/integrate.html)\n",
    "* [Interpolation](http://docs.scipy.org/doc/scipy/reference/tutorial/interpolate.html)\n",
    "* [FFT](http://docs.scipy.org/doc/scipy/reference/tutorial/fftpack.html)\n",
    "* [Optimization](http://docs.scipy.org/doc/scipy/reference/tutorial/optimize.html)\n",
    "\n",
    "For the rest of this notebook we will play around with some of these submodules to see what kind of functionality is available."
   ]
  },
  {
   "cell_type": "code",
   "execution_count": null,
   "metadata": {},
   "outputs": [],
   "source": [
    "%matplotlib inline\n",
    "from __future__ import print_function, division\n",
    "import numpy as np"
   ]
  },
  {
   "cell_type": "markdown",
   "metadata": {},
   "source": [
    "### SciPy constants\n",
    "\n",
    "`scipy.constants` is a convenient compilation of the [2010 CODATA constants](http://www.codata.org)."
   ]
  },
  {
   "cell_type": "code",
   "execution_count": null,
   "metadata": {},
   "outputs": [],
   "source": [
    "from scipy import constants as cons\n",
    "cons.physical_constants"
   ]
  },
  {
   "cell_type": "code",
   "execution_count": null,
   "metadata": {},
   "outputs": [],
   "source": [
    "cons.find('electron mass')"
   ]
  },
  {
   "cell_type": "markdown",
   "metadata": {},
   "source": [
    "### Linear Algebra\n",
    "Scipy has implemented most of the fundamental linear algibra operations that you will need to use."
   ]
  },
  {
   "cell_type": "code",
   "execution_count": null,
   "metadata": {},
   "outputs": [],
   "source": [
    "from scipy import linalg\n",
    "#matrix inverse\n",
    "x = np.random.rand(10,10)\n",
    "xinv = linalg.inv(x)\n",
    "\n",
    "#eigenvalues, eigenvectors\n",
    "eigenval, eigenvec = linalg.eig(x)\n",
    "\n",
    "#determinant\n",
    "det = linalg.det(x)\n",
    "\n",
    "#and many more..."
   ]
  },
  {
   "cell_type": "code",
   "execution_count": null,
   "metadata": {
    "collapsed": true
   },
   "outputs": [],
   "source": [
    "from numpy import linalg"
   ]
  },
  {
   "cell_type": "code",
   "execution_count": null,
   "metadata": {
    "collapsed": true
   },
   "outputs": [],
   "source": [
    "from scipy import linalg"
   ]
  },
  {
   "cell_type": "markdown",
   "metadata": {},
   "source": [
    "### Optimization\n",
    "\n",
    "Yes, you can fit non-linear functions!"
   ]
  },
  {
   "cell_type": "code",
   "execution_count": null,
   "metadata": {
    "collapsed": true
   },
   "outputs": [],
   "source": [
    "from scipy import optimize"
   ]
  },
  {
   "cell_type": "code",
   "execution_count": null,
   "metadata": {
    "collapsed": true
   },
   "outputs": [],
   "source": [
    "#function to fit must have independent variable as first arg, parameters after that\n",
    "def func(x, p0, p1, p2):\n",
    "    \n",
    "    return p0 + x*p1 + x**2*p2\n",
    "        "
   ]
  },
  {
   "cell_type": "code",
   "execution_count": null,
   "metadata": {},
   "outputs": [],
   "source": [
    "#Generate some data\n",
    "x = np.linspace(0, 10, 20)\n",
    "p = [1.0, 2.0, 2.5]\n",
    "y = func(x, *p) + np.random.randn(20)"
   ]
  },
  {
   "cell_type": "code",
   "execution_count": null,
   "metadata": {
    "collapsed": true
   },
   "outputs": [],
   "source": [
    "def my_func(x, *args, **kwargs):\n",
    "    \n",
    "    for arg in args:\n",
    "        print(arg)\n",
    "\n",
    "    for kw in kwargs:\n",
    "        print(kwargs[kw])\n",
    "    "
   ]
  },
  {
   "cell_type": "code",
   "execution_count": null,
   "metadata": {},
   "outputs": [],
   "source": [
    "my_func(x, 'first arg', 'second arg', second_arg='kwarg')"
   ]
  },
  {
   "cell_type": "code",
   "execution_count": null,
   "metadata": {
    "collapsed": true
   },
   "outputs": [],
   "source": [
    "import matplotlib.pyplot as plt"
   ]
  },
  {
   "cell_type": "code",
   "execution_count": null,
   "metadata": {},
   "outputs": [],
   "source": [
    "plt.plot(x,y)"
   ]
  },
  {
   "cell_type": "code",
   "execution_count": null,
   "metadata": {},
   "outputs": [],
   "source": [
    "list(x)"
   ]
  },
  {
   "cell_type": "code",
   "execution_count": null,
   "metadata": {},
   "outputs": [],
   "source": [
    "p0=[0.0, 0.0, 0.0]\n",
    "fp, cov = optimize.curve_fit(func, x, y, p0=p0)\n",
    "print('Original parameters: {0}'.format(p0))\n",
    "print('Fitted parameters: {0}'.format(fp))\n",
    "plt.matshow(cov)\n",
    "plt.colorbar()"
   ]
  },
  {
   "cell_type": "code",
   "execution_count": null,
   "metadata": {},
   "outputs": [],
   "source": [
    "plt.plot(x, y, 'd')\n",
    "plt.plot(x, func(x,*fp))"
   ]
  },
  {
   "cell_type": "markdown",
   "metadata": {},
   "source": [
    "### Interpolation"
   ]
  },
  {
   "cell_type": "code",
   "execution_count": null,
   "metadata": {},
   "outputs": [],
   "source": [
    "from scipy.interpolate import interp1d, UnivariateSpline\n",
    "# now interpolate onto a much finer grid, using both iterp1d and UnivariateSpline\n",
    "ix = np.linspace(0, 10, 200)\n",
    "\n",
    "# list of interpolated values of location at i_times\n",
    "i1d = interp1d(x, y, kind=\"cubic\")\n",
    "us = UnivariateSpline(x, y) # a function that will return interpolated values"
   ]
  },
  {
   "cell_type": "code",
   "execution_count": null,
   "metadata": {},
   "outputs": [],
   "source": [
    "plt.plot(x, y, 'd')\n",
    "plt.plot(ix, i1d(ix), label='interp1d')\n",
    "plt.plot(ix, us(ix), label='UnivariateSpline')\n",
    "plt.legend()\n",
    "plt.savefig('myplot.png')"
   ]
  },
  {
   "cell_type": "markdown",
   "metadata": {},
   "source": [
    "### Exercise 1\n",
    "\n",
    "Explore 2 dimensional interpolation using interpolate.bisplrep and interpolate.bisplev on the following array. Interpolate the below array to 10 times it's fineness."
   ]
  },
  {
   "cell_type": "code",
   "execution_count": null,
   "metadata": {
    "collapsed": true
   },
   "outputs": [],
   "source": [
    "np.mgrid?"
   ]
  },
  {
   "cell_type": "code",
   "execution_count": null,
   "metadata": {
    "collapsed": true
   },
   "outputs": [],
   "source": [
    "x, y = np.mgrid[-1:1:20j, -1:1:20j]\n",
    "z = (x+y) * np.exp(-6.0*(x*x+y*y))"
   ]
  },
  {
   "cell_type": "code",
   "execution_count": null,
   "metadata": {},
   "outputs": [],
   "source": [
    "plt.matshow(z)"
   ]
  },
  {
   "cell_type": "markdown",
   "metadata": {},
   "source": [
    "### Integration"
   ]
  },
  {
   "cell_type": "code",
   "execution_count": null,
   "metadata": {
    "collapsed": true
   },
   "outputs": [],
   "source": [
    "from scipy.integrate import quad"
   ]
  },
  {
   "cell_type": "code",
   "execution_count": null,
   "metadata": {
    "collapsed": true
   },
   "outputs": [],
   "source": [
    "f = lambda x : func(x, p[0], p[1], p[2])\n",
    "di = quad(f, 10, 20)"
   ]
  },
  {
   "cell_type": "code",
   "execution_count": null,
   "metadata": {},
   "outputs": [],
   "source": [
    "print('Definite integral, error : {0}, {1}'.format(di[0], di[1]))"
   ]
  },
  {
   "cell_type": "code",
   "execution_count": null,
   "metadata": {
    "collapsed": true
   },
   "outputs": [],
   "source": [
    "from scipy.integrate import ode\n",
    "ode?"
   ]
  },
  {
   "cell_type": "markdown",
   "metadata": {},
   "source": [
    "You can [detect gravitational waves](https://losc.ligo.org/s/events/GW150914/GW150914_tutorial.html) with SciPy! "
   ]
  },
  {
   "cell_type": "markdown",
   "metadata": {},
   "source": [
    "## Scikit Learn"
   ]
  },
  {
   "cell_type": "code",
   "execution_count": null,
   "metadata": {},
   "outputs": [],
   "source": [
    "from sklearn import datasets, cross_validation, preprocessing, neighbors, metrics, grid_search\n",
    "\n",
    "boston = datasets.load_boston() #load in a canned data set \n",
    "X = boston.data\n",
    "Y = boston.target\n",
    "fields = boston.feature_names\n",
    "print(boston.DESCR)"
   ]
  },
  {
   "cell_type": "code",
   "execution_count": null,
   "metadata": {},
   "outputs": [],
   "source": [
    "plt.subplot(131)\n",
    "plt.scatter(X[:,11],Y)\n",
    "plt.subplot(132)\n",
    "plt.scatter(X[:,10],Y)\n",
    "plt.subplot(133)\n",
    "plt.scatter(X[:,9],Y)\n",
    "plt.tight_layout()"
   ]
  },
  {
   "cell_type": "code",
   "execution_count": null,
   "metadata": {
    "collapsed": true
   },
   "outputs": [],
   "source": [
    "X_scaled = preprocessing.scale(X)\n",
    "X_train, X_test, Y_train, Y_test = cross_validation.train_test_split(X_scaled, Y, test_size=0.5)"
   ]
  },
  {
   "cell_type": "code",
   "execution_count": null,
   "metadata": {},
   "outputs": [],
   "source": [
    "n_neighbors = 5\n",
    "weights = 'uniform'\n",
    "reg = neighbors.KNeighborsRegressor(n_neighbors, weights=weights)\n",
    "reg.fit(X_train, Y_train)"
   ]
  },
  {
   "cell_type": "code",
   "execution_count": null,
   "metadata": {},
   "outputs": [],
   "source": [
    "Y_pred = reg.predict(X_test)\n",
    "\n",
    "# how well did we do?\n",
    "mse = metrics.mean_squared_error(Y_test,Y_pred)\n",
    "print(mse)\n",
    "plt.plot(Y_test,Y_pred - Y_test,'o')\n",
    "plt.xlabel(\"True Median House Price ($1,000)\")\n",
    "plt.ylabel(\"Residual\")\n",
    "plt.hlines(0,min(Y_test),max(Y_test),color=\"red\")"
   ]
  },
  {
   "cell_type": "markdown",
   "metadata": {},
   "source": [
    "### Exercise 2\n",
    "Explore the KNN model parameters. See if you can find a combination that minimzes the MSE."
   ]
  },
  {
   "cell_type": "markdown",
   "metadata": {},
   "source": [
    "## Exercise Solutions"
   ]
  },
  {
   "cell_type": "markdown",
   "metadata": {},
   "source": [
    "### Exercise 1"
   ]
  },
  {
   "cell_type": "code",
   "execution_count": null,
   "metadata": {},
   "outputs": [],
   "source": [
    "from scipy import interpolate\n",
    "xnew, ynew = np.mgrid[-1:1:200j, -1:1:200j]\n",
    "tck = interpolate.bisplrep(x, y, z, s=0)\n"
   ]
  },
  {
   "cell_type": "code",
   "execution_count": null,
   "metadata": {},
   "outputs": [],
   "source": [
    "znew = interpolate.bisplev(xnew[:,0], ynew[0,:], tck)\n",
    "plt.matshow(znew)"
   ]
  },
  {
   "cell_type": "markdown",
   "metadata": {},
   "source": [
    "### Exercise 2"
   ]
  },
  {
   "cell_type": "code",
   "execution_count": null,
   "metadata": {},
   "outputs": [],
   "source": [
    "params = {'n_neighbors':range(1,5), 'weights':['uniform', 'distance']}\n",
    "cvreg = grid_search.GridSearchCV(neighbors.KNeighborsRegressor(), params, n_jobs=-1)#n_jobs parameter sets the number of processors\n",
    "cvreg.fit(X_train, Y_train)\n",
    "\n",
    "Y_pred = cvreg.predict(X_test)\n",
    "\n",
    "# how well did we do?\n",
    "mse = metrics.mean_squared_error(Y_test,Y_pred)\n",
    "print(mse)\n",
    "plt.plot(Y_test,Y_pred - Y_test,'o')\n",
    "plt.xlabel(\"True Median House Price ($1,000)\")\n",
    "plt.ylabel(\"Residual\")\n",
    "plt.hlines(0,min(Y_test),max(Y_test),color=\"red\")"
   ]
  },
  {
   "cell_type": "code",
   "execution_count": null,
   "metadata": {
    "collapsed": true
   },
   "outputs": [],
   "source": []
  }
 ],
 "metadata": {
  "kernelspec": {
   "display_name": "Python 2",
   "language": "python",
   "name": "python2"
  },
  "language_info": {
   "codemirror_mode": {
    "name": "ipython",
    "version": 2
   },
   "file_extension": ".py",
   "mimetype": "text/x-python",
   "name": "python",
   "nbconvert_exporter": "python",
   "pygments_lexer": "ipython2",
   "version": "2.7.12"
  }
 },
 "nbformat": 4,
 "nbformat_minor": 1
}
